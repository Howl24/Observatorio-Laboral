{
 "cells": [
  {
   "cell_type": "code",
   "execution_count": 1,
   "metadata": {},
   "outputs": [],
   "source": [
    "%matplotlib inline\n",
    "import matplotlib.pyplot as plt\n",
    "import numpy as np\n",
    "import pandas as pd\n"
   ]
  },
  {
   "cell_type": "code",
   "execution_count": 2,
   "metadata": {},
   "outputs": [
    {
     "name": "stdout",
     "output_type": "stream",
     "text": [
      "12653\n",
      "12653\n",
      "491\n"
     ]
    }
   ],
   "source": [
    "# Get data to work with\n",
    "\n",
    "from observatorio_laboral.offer.offer_controller import OfferController\n",
    "from observatorio_laboral.offer.date_range import DateRange\n",
    "\n",
    "text_fields = []\n",
    "oc = OfferController(text_fields = [\"Job Title\", \"Description\", \"Qualifications\"])\n",
    "date_range = DateRange(1, 2013, 5, 2017)\n",
    "source = \"symplicity\"\n",
    "\n",
    "oc.load_offers(source, date_range)\n",
    "print(len(oc.offers))\n",
    "\n",
    "oc.filter_offers_by_career(\"ECONOMÍA\")\n",
    "print(len(oc.offers))\n",
    "\n",
    "oc.filter_offers_by_field(\"Areas\")\n",
    "print(len(oc.offers))\n",
    "\n",
    "offer_texts = oc.get_text()\n",
    "offer_classes = oc.get_field_labels(\"Areas\")"
   ]
  },
  {
   "cell_type": "code",
   "execution_count": 30,
   "metadata": {},
   "outputs": [],
   "source": [
    "from sklearn.feature_extraction.text import TfidfVectorizer\n",
    "from nltk.corpus import stopwords\n",
    "\n",
    "vec = TfidfVectorizer(offer_texts, ngram_range=(1,1), stop_words = stopwords.words('spanish'))\n",
    "X = offer_texts\n",
    "\n",
    "Xtr = vec.fit_transform(X)\n",
    "features = vec.get_feature_names()"
   ]
  },
  {
   "cell_type": "code",
   "execution_count": 80,
   "metadata": {},
   "outputs": [],
   "source": [
    "def top_tfidf_feats(row, features, top_n=25):\n",
    "    ''' Get top n tfidf values in row and return them with their corresponding feature names.'''\n",
    "    topn_ids = np.argsort(row)[::-1][:top_n]\n",
    "    top_feats = [(features[i], row[i]) for i in topn_ids]\n",
    "    df = pd.DataFrame(top_feats)\n",
    "    df.columns = ['feature', 'tfidf']\n",
    "    return df\n",
    "\n",
    "def top_feats_in_doc(Xtr, features, row_id, top_n=25):\n",
    "    ''' Top tfidf features in specific document (matrix row) '''\n",
    "    row = np.squeeze(Xtr[row_id].toarray())\n",
    "    return top_tfidf_feats(row, features, top_n)\n",
    "\n",
    "def top_mean_feats(Xtr, features, grp_ids=None, min_tfidf=0.1, top_n=25):\n",
    "    ''' Return the top n features that on average are most important amongst documents in rows\n",
    "        indentified by indices in grp_ids. '''\n",
    "    if grp_ids:\n",
    "        D = Xtr[grp_ids].toarray()\n",
    "    else:\n",
    "        D = Xtr.toarray()\n",
    "\n",
    "    D[D < min_tfidf] = 0    \n",
    "    tfidf_means = np.sum(D, axis=0)\n",
    "    #tfidf_means = np.mean(D, axis=0)\n",
    "    #tfidf_means = np.ma.masked_equal(D, 0).mean(axis=1)\n",
    "    return top_tfidf_feats(tfidf_means, features, top_n)\n",
    "\n",
    "def top_feats_by_class(Xtr, y, features, min_tfidf=0.1, top_n=25):\n",
    "    ''' Return a list of dfs, where each df holds top_n features and their mean tfidf value\n",
    "        calculated across documents with the same class label. '''\n",
    "    dfs = []\n",
    "    labels = np.unique(y)    \n",
    "    for label in labels:\n",
    "        ids = np.where(y==label)          \n",
    "        feats_df = top_mean_feats(Xtr, features, ids, min_tfidf=min_tfidf, top_n=top_n)\n",
    "        feats_df.label = label\n",
    "        dfs.append(feats_df)\n",
    "    return dfs\n",
    "\n",
    "def plot_tfidf_classfeats_h(dfs):\n",
    "    ''' Plot the data frames returned by the function plot_tfidf_classfeats(). '''\n",
    "    fig = plt.figure(figsize=(12, 9), facecolor=\"w\")\n",
    "    x = np.arange(len(dfs[0]))\n",
    "    for i, df in enumerate(dfs):\n",
    "        ax = fig.add_subplot(1, len(dfs), i+1)\n",
    "        ax.spines[\"top\"].set_visible(False)\n",
    "        ax.spines[\"right\"].set_visible(False)\n",
    "        ax.set_frame_on(False)\n",
    "        ax.get_xaxis().tick_bottom()\n",
    "        ax.get_yaxis().tick_left()\n",
    "        ax.set_xlabel(\"Mean Tf-Idf Score\", labelpad=16, fontsize=14)\n",
    "        ax.set_title(\"label = \" + str(df.label), fontsize=16)\n",
    "        ax.ticklabel_format(axis='x', style='sci', scilimits=(-2,2))\n",
    "        ax.barh(x, df.tfidf, align='center', color='#3F5D7D')\n",
    "        ax.set_yticks(x)\n",
    "        ax.set_ylim([-1, x[-1]+1])\n",
    "        yticks = ax.set_yticklabels(df.feature)\n",
    "        plt.subplots_adjust(bottom=0.09, right=0.97, left=0.15, top=0.95, wspace=0.52)\n",
    "    plt.show()"
   ]
  },
  {
   "cell_type": "code",
   "execution_count": 81,
   "metadata": {},
   "outputs": [
    {
     "data": {
      "text/html": [
       "<div>\n",
       "<style scoped>\n",
       "    .dataframe tbody tr th:only-of-type {\n",
       "        vertical-align: middle;\n",
       "    }\n",
       "\n",
       "    .dataframe tbody tr th {\n",
       "        vertical-align: top;\n",
       "    }\n",
       "\n",
       "    .dataframe thead th {\n",
       "        text-align: right;\n",
       "    }\n",
       "</style>\n",
       "<table border=\"1\" class=\"dataframe\">\n",
       "  <thead>\n",
       "    <tr style=\"text-align: right;\">\n",
       "      <th></th>\n",
       "      <th>feature</th>\n",
       "      <th>tfidf</th>\n",
       "    </tr>\n",
       "  </thead>\n",
       "  <tbody>\n",
       "    <tr>\n",
       "      <th>0</th>\n",
       "      <td>investigación</td>\n",
       "      <td>0.483665</td>\n",
       "    </tr>\n",
       "    <tr>\n",
       "      <th>1</th>\n",
       "      <td>mining</td>\n",
       "      <td>0.187938</td>\n",
       "    </tr>\n",
       "    <tr>\n",
       "      <th>2</th>\n",
       "      <td>textos</td>\n",
       "      <td>0.187938</td>\n",
       "    </tr>\n",
       "    <tr>\n",
       "      <th>3</th>\n",
       "      <td>papers</td>\n",
       "      <td>0.187938</td>\n",
       "    </tr>\n",
       "    <tr>\n",
       "      <th>4</th>\n",
       "      <td>estatales</td>\n",
       "      <td>0.187938</td>\n",
       "    </tr>\n",
       "    <tr>\n",
       "      <th>5</th>\n",
       "      <td>prácticantes</td>\n",
       "      <td>0.187938</td>\n",
       "    </tr>\n",
       "    <tr>\n",
       "      <th>6</th>\n",
       "      <td>proyectos</td>\n",
       "      <td>0.177758</td>\n",
       "    </tr>\n",
       "    <tr>\n",
       "      <th>7</th>\n",
       "      <td>consultorias</td>\n",
       "      <td>0.176224</td>\n",
       "    </tr>\n",
       "    <tr>\n",
       "      <th>8</th>\n",
       "      <td>socioeconómicas</td>\n",
       "      <td>0.176224</td>\n",
       "    </tr>\n",
       "    <tr>\n",
       "      <th>9</th>\n",
       "      <td>revistas</td>\n",
       "      <td>0.176224</td>\n",
       "    </tr>\n",
       "  </tbody>\n",
       "</table>\n",
       "</div>"
      ],
      "text/plain": [
       "           feature     tfidf\n",
       "0    investigación  0.483665\n",
       "1           mining  0.187938\n",
       "2           textos  0.187938\n",
       "3           papers  0.187938\n",
       "4        estatales  0.187938\n",
       "5     prácticantes  0.187938\n",
       "6        proyectos  0.177758\n",
       "7     consultorias  0.176224\n",
       "8  socioeconómicas  0.176224\n",
       "9         revistas  0.176224"
      ]
     },
     "execution_count": 81,
     "metadata": {},
     "output_type": "execute_result"
    }
   ],
   "source": [
    "top_feats_in_doc(Xtr, features, 1, 10)"
   ]
  },
  {
   "cell_type": "code",
   "execution_count": 82,
   "metadata": {},
   "outputs": [],
   "source": [
    "y = np.array([\",\".join(labels) for labels in offer_classes])\n",
    "dfs = top_feats_by_class(Xtr, y, features, min_tfidf=0.12)"
   ]
  },
  {
   "cell_type": "code",
   "execution_count": 83,
   "metadata": {},
   "outputs": [
    {
     "data": {
      "image/png": "[encoded data removed]",
      "text/plain": [
       "<matplotlib.figure.Figure at 0x7f2d844b2f60>"
      ]
     },
     "metadata": {},
     "output_type": "display_data"
    }
   ],
   "source": [
    "plot_tfidf_classfeats_h([dfs[25]])"
   ]
  },
  {
   "cell_type": "code",
   "execution_count": 13,
   "metadata": {},
   "outputs": [],
   "source": [
    "ids_by_label = {}\n",
    "labels = np.unique(y) \n",
    "for label in labels:\n",
    "    ids = np.where(y==label)\n",
    "    ids_by_label[label] = ids"
   ]
  },
  {
   "cell_type": "code",
   "execution_count": 16,
   "metadata": {},
   "outputs": [
    {
     "data": {
      "text/plain": [
       "{'EI': (array([5]),),\n",
       " 'EI,F': (array([ 38, 448]),),\n",
       " 'EI,F,P': (array([369]),),\n",
       " 'EI,MC': (array([249]),),\n",
       " 'EI,TE,OI,MC': (array([227]),),\n",
       " 'EM': (array([ 26,  28,  48,  53,  76,  81,  83, 143, 169, 172, 196, 203, 255,\n",
       "         262, 265, 289, 290, 297, 299, 319, 341, 377, 393, 407, 460, 484]),),\n",
       " 'F': (array([  8,  12,  15,  16,  18,  23,  24,  25,  33,  35,  36,  37,  39,\n",
       "          41,  43,  44,  46,  49,  54,  55,  57,  58,  60,  65,  66,  68,\n",
       "          69,  72,  73,  75,  79,  80,  82,  84,  85,  86,  87,  88,  90,\n",
       "          91,  93,  96,  97,  98, 108, 124, 136, 138, 146, 184, 186, 187,\n",
       "         216, 236, 242, 261, 268, 270, 278, 284, 296, 301, 318, 327, 329,\n",
       "         349, 365, 380, 388, 397, 400, 410, 419, 423, 424, 430, 436, 437,\n",
       "         439, 451, 455, 458, 459]),),\n",
       " 'F,EM': (array([ 32,  50,  52,  67, 102, 103, 131, 134, 137, 156, 159, 162, 165,\n",
       "         176, 190, 197, 232, 241, 244, 246, 277, 295, 304, 332, 339, 344,\n",
       "         358, 375, 406, 409, 431, 450, 479]),),\n",
       " 'F,MC': (array([  0,  11,  14,  21,  47,  59,  62,  64,  71,  89, 166, 231, 240,\n",
       "         276, 283, 347, 355, 440, 465, 487]),),\n",
       " 'F,MC,EM': (array([254, 281, 331, 334]),),\n",
       " 'F,MC,P': (array([ 20, 238, 350, 390, 422, 468, 473]),),\n",
       " 'F,OI': (array([311]),),\n",
       " 'F,OI,MC': (array([17]),),\n",
       " 'F,OI,P': (array([233, 282]),),\n",
       " 'F,P': (array([  2,   3,   4,   6,   7,   9,  13,  31,  34,  51,  70,  74,  95,\n",
       "         104, 105, 111, 114, 116, 117, 119, 125, 127, 130, 132, 133, 135,\n",
       "         142, 150, 151, 152, 153, 161, 167, 171, 174, 177, 179, 188, 193,\n",
       "         194, 195, 200, 201, 204, 212, 214, 217, 219, 221, 222, 239, 250,\n",
       "         257, 258, 259, 267, 271, 272, 273, 280, 286, 288, 294, 298, 300,\n",
       "         305, 306, 309, 315, 316, 320, 321, 324, 328, 333, 338, 340, 342,\n",
       "         343, 346, 348, 351, 352, 353, 354, 362, 364, 368, 370, 372, 378,\n",
       "         379, 383, 384, 386, 391, 392, 394, 402, 405, 412, 413, 415, 427,\n",
       "         428, 429, 432, 435, 438, 444, 445, 453, 454, 457, 462, 464, 467,\n",
       "         470, 474, 475, 483, 486, 488]),),\n",
       " 'F,TE': (array([181]),),\n",
       " 'F,TE,MC': (array([363, 481]),),\n",
       " 'F,TE,MC,EM': (array([182]),),\n",
       " 'F,TE,OI,MC': (array([144, 173, 443]),),\n",
       " 'MC': (array([  1,  40,  45,  56, 140, 189, 330, 345, 356, 357, 374, 396, 398,\n",
       "         404, 446, 447, 466, 482]),),\n",
       " 'MC,EM': (array([ 19,  42,  61, 269, 323, 414]),),\n",
       " 'MC,P': (array([ 10,  94, 168, 178, 183, 224, 292, 361, 366, 367, 387, 478]),),\n",
       " 'OI': (array([77]),),\n",
       " 'OI,EM': (array([22]),),\n",
       " 'OI,P': (array([469]),),\n",
       " 'P': (array([ 27,  29,  30,  63,  78,  92,  99, 100, 106, 107, 109, 110, 113,\n",
       "         115, 118, 120, 121, 122, 123, 126, 128, 129, 139, 141, 145, 147,\n",
       "         148, 149, 154, 155, 157, 160, 163, 164, 170, 175, 180, 185, 191,\n",
       "         192, 198, 199, 202, 205, 206, 207, 208, 209, 210, 211, 215, 218,\n",
       "         220, 223, 225, 226, 228, 229, 230, 234, 235, 237, 247, 248, 251,\n",
       "         252, 253, 256, 260, 263, 264, 266, 274, 275, 279, 285, 287, 291,\n",
       "         293, 302, 303, 307, 308, 310, 312, 313, 314, 317, 322, 325, 326,\n",
       "         335, 336, 337, 360, 371, 373, 376, 381, 382, 385, 389, 395, 399,\n",
       "         401, 403, 408, 411, 416, 417, 418, 420, 421, 425, 426, 433, 434,\n",
       "         442, 449, 452, 456, 463, 471, 472, 476, 477, 480, 485, 489, 490]),),\n",
       " 'TE,MC': (array([158, 213, 243, 245, 359]),),\n",
       " 'TE,MC,P': (array([101]),),\n",
       " 'TE,OI,MC': (array([112]),),\n",
       " 'TE,P': (array([441, 461]),)}"
      ]
     },
     "execution_count": 16,
     "metadata": {},
     "output_type": "execute_result"
    }
   ],
   "source": [
    "ids_by_label"
   ]
  },
  {
   "cell_type": "code",
   "execution_count": null,
   "metadata": {},
   "outputs": [],
   "source": []
  }
 ],
 "metadata": {
  "kernelspec": {
   "display_name": "Python 3",
   "language": "python",
   "name": "python3"
  },
  "language_info": {
   "codemirror_mode": {
    "name": "ipython",
    "version": 3
   },
   "file_extension": ".py",
   "mimetype": "text/x-python",
   "name": "python",
   "nbconvert_exporter": "python",
   "pygments_lexer": "ipython3",
   "version": "3.5.2"
  }
 },
 "nbformat": 4,
 "nbformat_minor": 2
}
