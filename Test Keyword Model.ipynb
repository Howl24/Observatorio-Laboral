{
 "cells": [
  {
   "cell_type": "code",
   "execution_count": 1,
   "metadata": {},
   "outputs": [],
   "source": [
    "from observatorio_laboral.keyword_classifier.keyword import Keyword"
   ]
  },
  {
   "cell_type": "code",
   "execution_count": 2,
   "metadata": {},
   "outputs": [],
   "source": [
    "# Test table creation inside l4_test\n",
    "Keyword.ConnectToDatabase(\"l4_test\", \"keyword\", setup=True)"
   ]
  },
  {
   "cell_type": "code",
   "execution_count": 5,
   "metadata": {},
   "outputs": [],
   "source": [
    "Keyword.ConnectToDatabase(\"l4_test\", \"keyword\")"
   ]
  },
  {
   "cell_type": "code",
   "execution_count": 8,
   "metadata": {},
   "outputs": [],
   "source": [
    "kws = Keyword.Query(\"l4_test\", \"keyword\", \"select\", (\"positions\",))"
   ]
  },
  {
   "cell_type": "code",
   "execution_count": 13,
   "metadata": {},
   "outputs": [
    {
     "name": "stdout",
     "output_type": "stream",
     "text": [
      "['analista']\n",
      "['asistente']\n",
      "['consultor', 'asesor']\n",
      "['dirección', 'alta gerencia', 'gerente general']\n",
      "['docente', 'profesor', 'tutor']\n",
      "['ejecutivo']\n",
      "['gerencia media', 'gerente']\n",
      "['operativo', 'operario']\n",
      "['profesional especializado']\n",
      "['supervisor']\n"
     ]
    }
   ],
   "source": [
    "for kw in kws:\n",
    "    print(kw.similars_stem)"
   ]
  },
  {
   "cell_type": "code",
   "execution_count": null,
   "metadata": {},
   "outputs": [],
   "source": []
  }
 ],
 "metadata": {
  "kernelspec": {
   "display_name": "Python 3",
   "language": "python",
   "name": "python3"
  },
  "language_info": {
   "codemirror_mode": {
    "name": "ipython",
    "version": 3
   },
   "file_extension": ".py",
   "mimetype": "text/x-python",
   "name": "python",
   "nbconvert_exporter": "python",
   "pygments_lexer": "ipython3",
   "version": "3.5.2"
  }
 },
 "nbformat": 4,
 "nbformat_minor": 2
}
